{
 "cells": [
  {
   "cell_type": "code",
   "execution_count": 101,
   "metadata": {},
   "outputs": [],
   "source": [
    "import pandas as pd\n",
    "import matplotlib.pyplot as plt\n",
    "import seaborn as sns\n",
    "import plotly.express as px\n"
   ]
  },
  {
   "cell_type": "code",
   "execution_count": 2,
   "metadata": {},
   "outputs": [],
   "source": [
    "# Loading dataset\n",
    "df = pd.read_csv('Life_Expectancy_00_15.csv', sep=';')"
   ]
  },
  {
   "cell_type": "code",
   "execution_count": 3,
   "metadata": {},
   "outputs": [
    {
     "data": {
      "text/html": [
       "<div>\n",
       "<style scoped>\n",
       "    .dataframe tbody tr th:only-of-type {\n",
       "        vertical-align: middle;\n",
       "    }\n",
       "\n",
       "    .dataframe tbody tr th {\n",
       "        vertical-align: top;\n",
       "    }\n",
       "\n",
       "    .dataframe thead th {\n",
       "        text-align: right;\n",
       "    }\n",
       "</style>\n",
       "<table border=\"1\" class=\"dataframe\">\n",
       "  <thead>\n",
       "    <tr style=\"text-align: right;\">\n",
       "      <th></th>\n",
       "      <th>Country</th>\n",
       "      <th>Year</th>\n",
       "      <th>Continent</th>\n",
       "      <th>Least Developed</th>\n",
       "      <th>Life Expectancy</th>\n",
       "      <th>Population</th>\n",
       "      <th>CO2 emissions</th>\n",
       "      <th>Health expenditure</th>\n",
       "      <th>Electric power consumption</th>\n",
       "      <th>Forest area</th>\n",
       "      <th>GDP per capita</th>\n",
       "      <th>Individuals using the Internet</th>\n",
       "      <th>Military expenditure</th>\n",
       "      <th>People practicing open defecation</th>\n",
       "      <th>People using at least basic drinking water services</th>\n",
       "      <th>Obesity among adults</th>\n",
       "      <th>Beer consumption per capita</th>\n",
       "    </tr>\n",
       "  </thead>\n",
       "  <tbody>\n",
       "    <tr>\n",
       "      <th>0</th>\n",
       "      <td>Albania</td>\n",
       "      <td>2000</td>\n",
       "      <td>Europe</td>\n",
       "      <td>False</td>\n",
       "      <td>73.955</td>\n",
       "      <td>3089027</td>\n",
       "      <td>1.026213</td>\n",
       "      <td>7.233370</td>\n",
       "      <td>1414.703784</td>\n",
       "      <td>28.076642</td>\n",
       "      <td>3860.804627</td>\n",
       "      <td>0.114097</td>\n",
       "      <td>1.246360</td>\n",
       "      <td>0.888853</td>\n",
       "      <td>86.754471</td>\n",
       "      <td>12.8</td>\n",
       "      <td>1.33431</td>\n",
       "    </tr>\n",
       "    <tr>\n",
       "      <th>1</th>\n",
       "      <td>Albania</td>\n",
       "      <td>2001</td>\n",
       "      <td>Europe</td>\n",
       "      <td>False</td>\n",
       "      <td>74.288</td>\n",
       "      <td>3060173</td>\n",
       "      <td>1.055496</td>\n",
       "      <td>7.139524</td>\n",
       "      <td>1449.647413</td>\n",
       "      <td>28.123248</td>\n",
       "      <td>4299.546493</td>\n",
       "      <td>0.325798</td>\n",
       "      <td>1.309291</td>\n",
       "      <td>0.836397</td>\n",
       "      <td>86.904070</td>\n",
       "      <td>13.3</td>\n",
       "      <td>1.48995</td>\n",
       "    </tr>\n",
       "    <tr>\n",
       "      <th>2</th>\n",
       "      <td>Albania</td>\n",
       "      <td>2002</td>\n",
       "      <td>Europe</td>\n",
       "      <td>False</td>\n",
       "      <td>74.579</td>\n",
       "      <td>3051010</td>\n",
       "      <td>1.232379</td>\n",
       "      <td>6.909341</td>\n",
       "      <td>1351.230796</td>\n",
       "      <td>28.169854</td>\n",
       "      <td>4661.402695</td>\n",
       "      <td>0.390081</td>\n",
       "      <td>1.320034</td>\n",
       "      <td>0.781899</td>\n",
       "      <td>87.451635</td>\n",
       "      <td>13.9</td>\n",
       "      <td>1.28697</td>\n",
       "    </tr>\n",
       "    <tr>\n",
       "      <th>3</th>\n",
       "      <td>Albania</td>\n",
       "      <td>2003</td>\n",
       "      <td>Europe</td>\n",
       "      <td>False</td>\n",
       "      <td>74.828</td>\n",
       "      <td>3039616</td>\n",
       "      <td>1.338985</td>\n",
       "      <td>7.063490</td>\n",
       "      <td>1578.165919</td>\n",
       "      <td>28.216460</td>\n",
       "      <td>5000.049363</td>\n",
       "      <td>0.971900</td>\n",
       "      <td>1.336843</td>\n",
       "      <td>0.728191</td>\n",
       "      <td>87.987194</td>\n",
       "      <td>14.4</td>\n",
       "      <td>1.44830</td>\n",
       "    </tr>\n",
       "    <tr>\n",
       "      <th>4</th>\n",
       "      <td>Albania</td>\n",
       "      <td>2004</td>\n",
       "      <td>Europe</td>\n",
       "      <td>False</td>\n",
       "      <td>75.039</td>\n",
       "      <td>3026939</td>\n",
       "      <td>1.404059</td>\n",
       "      <td>6.773372</td>\n",
       "      <td>1469.264539</td>\n",
       "      <td>28.263066</td>\n",
       "      <td>5427.732662</td>\n",
       "      <td>2.420388</td>\n",
       "      <td>1.381158</td>\n",
       "      <td>0.675281</td>\n",
       "      <td>88.510583</td>\n",
       "      <td>15.0</td>\n",
       "      <td>1.37617</td>\n",
       "    </tr>\n",
       "  </tbody>\n",
       "</table>\n",
       "</div>"
      ],
      "text/plain": [
       "   Country  Year Continent  Least Developed  Life Expectancy  Population  \\\n",
       "0  Albania  2000    Europe            False           73.955     3089027   \n",
       "1  Albania  2001    Europe            False           74.288     3060173   \n",
       "2  Albania  2002    Europe            False           74.579     3051010   \n",
       "3  Albania  2003    Europe            False           74.828     3039616   \n",
       "4  Albania  2004    Europe            False           75.039     3026939   \n",
       "\n",
       "   CO2 emissions  Health expenditure  Electric power consumption  Forest area  \\\n",
       "0       1.026213            7.233370                 1414.703784    28.076642   \n",
       "1       1.055496            7.139524                 1449.647413    28.123248   \n",
       "2       1.232379            6.909341                 1351.230796    28.169854   \n",
       "3       1.338985            7.063490                 1578.165919    28.216460   \n",
       "4       1.404059            6.773372                 1469.264539    28.263066   \n",
       "\n",
       "   GDP per capita  Individuals using the Internet  Military expenditure  \\\n",
       "0     3860.804627                        0.114097              1.246360   \n",
       "1     4299.546493                        0.325798              1.309291   \n",
       "2     4661.402695                        0.390081              1.320034   \n",
       "3     5000.049363                        0.971900              1.336843   \n",
       "4     5427.732662                        2.420388              1.381158   \n",
       "\n",
       "   People practicing open defecation  \\\n",
       "0                           0.888853   \n",
       "1                           0.836397   \n",
       "2                           0.781899   \n",
       "3                           0.728191   \n",
       "4                           0.675281   \n",
       "\n",
       "   People using at least basic drinking water services  Obesity among adults  \\\n",
       "0                                          86.754471                    12.8   \n",
       "1                                          86.904070                    13.3   \n",
       "2                                          87.451635                    13.9   \n",
       "3                                          87.987194                    14.4   \n",
       "4                                          88.510583                    15.0   \n",
       "\n",
       "   Beer consumption per capita  \n",
       "0                      1.33431  \n",
       "1                      1.48995  \n",
       "2                      1.28697  \n",
       "3                      1.44830  \n",
       "4                      1.37617  "
      ]
     },
     "execution_count": 3,
     "metadata": {},
     "output_type": "execute_result"
    }
   ],
   "source": [
    "df.head()"
   ]
  },
  {
   "cell_type": "code",
   "execution_count": 83,
   "metadata": {},
   "outputs": [],
   "source": [
    "grouped_countries = df\\\n",
    "    .groupby('Country')\\\n",
    "    ['Population']\\\n",
    "    .sum().to_frame()\\\n",
    "    .sort_values(by='Population', ascending = False)[0:10]"
   ]
  },
  {
   "cell_type": "code",
   "execution_count": 84,
   "metadata": {},
   "outputs": [
    {
     "data": {
      "text/html": [
       "<div>\n",
       "<style scoped>\n",
       "    .dataframe tbody tr th:only-of-type {\n",
       "        vertical-align: middle;\n",
       "    }\n",
       "\n",
       "    .dataframe tbody tr th {\n",
       "        vertical-align: top;\n",
       "    }\n",
       "\n",
       "    .dataframe thead th {\n",
       "        text-align: right;\n",
       "    }\n",
       "</style>\n",
       "<table border=\"1\" class=\"dataframe\">\n",
       "  <thead>\n",
       "    <tr style=\"text-align: right;\">\n",
       "      <th></th>\n",
       "      <th>Population</th>\n",
       "    </tr>\n",
       "    <tr>\n",
       "      <th>Country</th>\n",
       "      <th></th>\n",
       "    </tr>\n",
       "  </thead>\n",
       "  <tbody>\n",
       "    <tr>\n",
       "      <th>China</th>\n",
       "      <td>21139800000</td>\n",
       "    </tr>\n",
       "    <tr>\n",
       "      <th>India</th>\n",
       "      <td>19017685730</td>\n",
       "    </tr>\n",
       "    <tr>\n",
       "      <th>United States</th>\n",
       "      <td>4833636559</td>\n",
       "    </tr>\n",
       "    <tr>\n",
       "      <th>Indonesia</th>\n",
       "      <td>3749685023</td>\n",
       "    </tr>\n",
       "    <tr>\n",
       "      <th>Brazil</th>\n",
       "      <td>3048468286</td>\n",
       "    </tr>\n",
       "  </tbody>\n",
       "</table>\n",
       "</div>"
      ],
      "text/plain": [
       "                Population\n",
       "Country                   \n",
       "China          21139800000\n",
       "India          19017685730\n",
       "United States   4833636559\n",
       "Indonesia       3749685023\n",
       "Brazil          3048468286"
      ]
     },
     "execution_count": 84,
     "metadata": {},
     "output_type": "execute_result"
    }
   ],
   "source": [
    "grouped_countries.head()"
   ]
  },
  {
   "cell_type": "code",
   "execution_count": 9,
   "metadata": {},
   "outputs": [
    {
     "name": "stdout",
     "output_type": "stream",
     "text": [
      "<class 'pandas.core.frame.DataFrame'>\n",
      "RangeIndex: 1904 entries, 0 to 1903\n",
      "Data columns (total 17 columns):\n",
      " #   Column                                               Non-Null Count  Dtype  \n",
      "---  ------                                               --------------  -----  \n",
      " 0   Country                                              1904 non-null   object \n",
      " 1   Year                                                 1904 non-null   int64  \n",
      " 2   Continent                                            1904 non-null   object \n",
      " 3   Least Developed                                      1904 non-null   bool   \n",
      " 4   Life Expectancy                                      1904 non-null   float64\n",
      " 5   Population                                           1904 non-null   int64  \n",
      " 6   CO2 emissions                                        1904 non-null   float64\n",
      " 7   Health expenditure                                   1904 non-null   float64\n",
      " 8   Electric power consumption                           1904 non-null   float64\n",
      " 9   Forest area                                          1904 non-null   float64\n",
      " 10  GDP per capita                                       1904 non-null   float64\n",
      " 11  Individuals using the Internet                       1904 non-null   float64\n",
      " 12  Military expenditure                                 1904 non-null   float64\n",
      " 13  People practicing open defecation                    1904 non-null   float64\n",
      " 14  People using at least basic drinking water services  1904 non-null   float64\n",
      " 15  Obesity among adults                                 1904 non-null   float64\n",
      " 16  Beer consumption per capita                          1904 non-null   float64\n",
      "dtypes: bool(1), float64(12), int64(2), object(2)\n",
      "memory usage: 240.0+ KB\n"
     ]
    }
   ],
   "source": [
    "df.info()"
   ]
  },
  {
   "cell_type": "markdown",
   "metadata": {},
   "source": [
    "## Pandas"
   ]
  },
  {
   "cell_type": "markdown",
   "metadata": {},
   "source": [
    "#### 10 Most Populous Contries"
   ]
  },
  {
   "cell_type": "code",
   "execution_count": 74,
   "metadata": {},
   "outputs": [
    {
     "data": {
      "image/png": "[encoded data removed]",
      "text/plain": [
       "<Figure size 1440x432 with 2 Axes>"
      ]
     },
     "metadata": {},
     "output_type": "display_data"
    }
   ],
   "source": [
    "fig, (ax_1, ax_2) = plt.subplots(nrows=1, ncols=2, figsize=(20,6))\n",
    "\n",
    "# Filtering dataframe\n",
    "df_2000 = df[df.loc[:,'Year']==2000].copy()\n",
    "df_2015 = df[df.loc[:,'Year']==2015].copy()\n",
    "\n",
    "# Setting background style\n",
    "sns.set(style='darkgrid')\n",
    "\n",
    "# Pandas plot\n",
    "df_2000.sort_values(by='Population', ascending=False)[0:10].plot(ax=ax_1, x='Country', y='Population', kind='bar', title='2000',\n",
    "            xlabel='Countries', ylabel='Population',\n",
    "            legend=False, \n",
    "            colormap='YlOrRd_r')\n",
    "\n",
    "# Pandas plot\n",
    "df_2015.sort_values(by='Population', ascending=False)[0:10].plot(ax=ax_2, x='Country', y='Population', kind='bar', title='2015',\n",
    "            xlabel='Countries', ylabel='Population',\n",
    "            legend=False,\n",
    "            colormap='YlOrRd_r')\n",
    "\n",
    "# Labels\n",
    "countries_2000 = df_2000.sort_values(by='Population', ascending=False)[0:10]['Country'].values\n",
    "countries_2015 = df_2015.sort_values(by='Population', ascending=False)[0:10]['Country'].values\n",
    "\n",
    "# Adding some plt customization\n",
    "plt.suptitle('10 Most Populous Countries', fontweight='bold', fontsize=16)\n",
    "ax_1.set_xticks(ticks=[i for i in range(10)],labels=countries_2000,rotation=-45)\n",
    "ax_2.set_xticks(ticks=[i for i in range(10)],labels=countries_2015,rotation=-45)\n",
    "plt.show()"
   ]
  },
  {
   "cell_type": "markdown",
   "metadata": {},
   "source": [
    "#### Population Difference"
   ]
  },
  {
   "cell_type": "code",
   "execution_count": 60,
   "metadata": {},
   "outputs": [
    {
     "data": {
      "image/png": "[encoded data removed]",
      "text/plain": [
       "<Figure size 720x432 with 1 Axes>"
      ]
     },
     "metadata": {},
     "output_type": "display_data"
    }
   ],
   "source": [
    "# Calculating population difference\n",
    "df_2015['pop_difference'] = df_2015.loc[:,'Population'].values-df_2000.loc[:,'Population'].values\n",
    "\n",
    "# Figure and axe:\n",
    "fig, ax = plt.subplots(figsize=(10,6))\n",
    "\n",
    "# Setting background style\n",
    "sns.set(style='darkgrid')\n",
    "\n",
    "# Pandas plot\n",
    "df_2015.sort_values(by='pop_difference', ascending=False)[0:10].plot(ax =ax, x='Country', y='pop_difference', kind='bar',\n",
    "            xlabel='Countries', ylabel='Population',\n",
    "            legend=False,\n",
    "            colormap='YlOrRd_r')\n",
    "\n",
    "# Adding some plt customization\n",
    "plt.suptitle('Countries with Most Population Difference Between 2000 and 2015', fontweight='bold', fontsize=12)\n",
    "plt.xticks(rotation=-45)\n",
    "plt.show()"
   ]
  },
  {
   "cell_type": "code",
   "execution_count": 61,
   "metadata": {},
   "outputs": [
    {
     "data": {
      "image/png": "[encoded data removed]",
      "text/plain": [
       "<Figure size 720x432 with 1 Axes>"
      ]
     },
     "metadata": {},
     "output_type": "display_data"
    }
   ],
   "source": [
    "# Calculating population difference\n",
    "df_2015['pop_difference'] = df_2015['Population'].values-df_2000['Population'].values\n",
    "\n",
    "# Figure and axe:\n",
    "fig, ax = plt.subplots(figsize=(10,6))\n",
    "\n",
    "# Setting background style\n",
    "sns.set(style='darkgrid')\n",
    "\n",
    "# Pandas plot\n",
    "df_2015.sort_values(by='Population', ascending=False)\\\n",
    "    [0:10].sort_values(by='pop_difference', ascending=False).plot(ax =ax, x='Country', y='pop_difference', kind='bar',\n",
    "            xlabel='Countries', ylabel='Population',\n",
    "            legend=False,\n",
    "            colormap='YlOrRd_r')\n",
    "\n",
    "# Adding some plt customization\n",
    "plt.suptitle('Population Difference Between 2000 and 2015 on Most Populous Countries', fontweight='bold', fontsize=12)\n",
    "plt.xticks(rotation=-45)\n",
    "plt.show()"
   ]
  },
  {
   "cell_type": "code",
   "execution_count": 62,
   "metadata": {},
   "outputs": [
    {
     "data": {
      "image/png": "[encoded data removed]",
      "text/plain": [
       "<Figure size 1440x432 with 2 Axes>"
      ]
     },
     "metadata": {},
     "output_type": "display_data"
    }
   ],
   "source": [
    "fig, (ax_1, ax_2) = plt.subplots(nrows=1, ncols=2, figsize=(20,6))\n",
    "\n",
    "# Setting background style\n",
    "sns.set(style='darkgrid')\n",
    "\n",
    "# Pandas plot\n",
    "# Plotting top 10 countries with larger difference population between 2000 and 2015\n",
    "df_2015.sort_values(by='pop_difference', ascending=False)[0:10].plot(ax =ax_1, x='Country', y='pop_difference', kind='bar',\n",
    "            xlabel='Countries', ylabel='Population',\n",
    "            legend=False,\n",
    "            colormap='YlOrRd_r')\n",
    "\n",
    "# Pandas plot\n",
    "# Plotting the difference population between countries most populous\n",
    "df_2015.sort_values(by='Population', ascending=False)\\\n",
    "    [0:10].sort_values(by='pop_difference', ascending=False).plot(ax =ax_2, x='Country', y='pop_difference', kind='bar',\n",
    "            xlabel='Countries', ylabel='Population',\n",
    "            legend=False,\n",
    "            colormap='YlOrRd_r')\n",
    "\n",
    "# Labels\n",
    "countries_ax_1 = df_2015.sort_values(by='pop_difference', ascending=False)[0:10]['Country'].values\n",
    "countries_ax_2 = df_2015.sort_values(by='Population', ascending=False)\\\n",
    "    [0:10].sort_values(by='pop_difference', ascending=False)['Country'].values\n",
    "\n",
    "# Adding some plt customization\n",
    "plt.suptitle('Population Difference Between 2000 and 2015', fontweight='bold', fontsize=16)\n",
    "ax_1.set_title('Countries with Most Population Difference')\n",
    "ax_1.set_xticks(ticks=[i for i in range(10)],labels=countries_ax_1,rotation=-45)\n",
    "ax_2.set_title('Population Difference Between Most Populous Contries')\n",
    "ax_2.set_xticks(ticks=[i for i in range(10)],labels=countries_ax_2,rotation=-45)\n",
    "plt.show()"
   ]
  },
  {
   "cell_type": "code",
   "execution_count": 10,
   "metadata": {},
   "outputs": [
    {
     "data": {
      "text/plain": [
       "351     117215000\n",
       "767     253576844\n",
       "1839     38576583\n",
       "783      46869435\n",
       "239      29681420\n",
       "Name: pop_difference, dtype: int64"
      ]
     },
     "execution_count": 10,
     "metadata": {},
     "output_type": "execute_result"
    }
   ],
   "source": [
    "df_2015['pop_difference'].head()"
   ]
  },
  {
   "cell_type": "markdown",
   "metadata": {},
   "source": [
    "## Matplotlib"
   ]
  },
  {
   "cell_type": "markdown",
   "metadata": {},
   "source": [
    "#### 10 Most Populous Countries"
   ]
  },
  {
   "cell_type": "code",
   "execution_count": 75,
   "metadata": {},
   "outputs": [
    {
     "name": "stderr",
     "output_type": "stream",
     "text": [
      "C:\\Users\\cliente\\AppData\\Local\\Temp/ipykernel_7292/3017537149.py:20: UserWarning: FixedFormatter should only be used together with FixedLocator\n",
      "  ax_1.set_xticklabels(most_populous_2000['Country'], rotation = -45, fontdict={'horizontalalignment':'center'})\n",
      "C:\\Users\\cliente\\AppData\\Local\\Temp/ipykernel_7292/3017537149.py:24: UserWarning: FixedFormatter should only be used together with FixedLocator\n",
      "  ax_2.set_xticklabels(most_populous_2015['Country'], rotation = -45, fontdict={'horizontalalignment':'center'})\n"
     ]
    },
    {
     "data": {
      "image/png": "[encoded data removed]",
      "text/plain": [
       "<Figure size 1440x432 with 2 Axes>"
      ]
     },
     "metadata": {},
     "output_type": "display_data"
    }
   ],
   "source": [
    "# Creating figure and axes\n",
    "fig, (ax_1, ax_2) = plt.subplots(nrows=1, ncols=2, figsize=(20,6))\n",
    "\n",
    "# Figure title\n",
    "fig.suptitle('10 Most Populous Countries', fontweight='bold')\n",
    "\n",
    "# Ordening dataframe\n",
    "most_populous_2000 = df_2000.sort_values(by='Population', ascending=False)[0:10]\n",
    "most_populous_2015 = df_2015.sort_values(by='Population', ascending=False)[0:10]\n",
    "\n",
    "# Matplotlib Barplot\n",
    "ax_1.bar(most_populous_2000['Country'], most_populous_2000['Population'], color='maroon')\n",
    "ax_2.bar(most_populous_2015['Country'], most_populous_2015['Population'], color='maroon')\n",
    "\n",
    "# Customizing\n",
    "\n",
    "# Setting background style\n",
    "sns.set(style='darkgrid')\n",
    "\n",
    "ax_1.set_xticklabels(most_populous_2000['Country'], rotation = -45, fontdict={'horizontalalignment':'center'})\n",
    "ax_1.set_xlabel('Countries')\n",
    "ax_1.set_ylabel('Population')\n",
    "\n",
    "ax_2.set_xticklabels(most_populous_2015['Country'], rotation = -45, fontdict={'horizontalalignment':'center'})\n",
    "ax_2.set_xlabel('Countries')\n",
    "ax_2.set_ylabel('Population')\n",
    "\n",
    "plt.show()"
   ]
  },
  {
   "cell_type": "code",
   "execution_count": 136,
   "metadata": {},
   "outputs": [
    {
     "data": {
      "image/png": "[encoded data removed]",
      "text/plain": [
       "<Figure size 1440x432 with 2 Axes>"
      ]
     },
     "metadata": {},
     "output_type": "display_data"
    }
   ],
   "source": [
    "# Creating figure and axes\n",
    "fig, (ax_1, ax_2) = plt.subplots(nrows=1, ncols=2, figsize=(20,6))\n",
    "\n",
    "# Figure title\n",
    "fig.suptitle('Health Expenditure x Life Expectancy', fontweight='bold')\n",
    "\n",
    "# Filtering dataframes to compare\n",
    "df_2015 = df[df.loc[:,'Year']==2015].copy()\n",
    "df_2000 = df[df.loc[:,'Year']==2000].copy()\n",
    "\n",
    "# Background style\n",
    "sns.set(style='darkgrid')\n",
    "\n",
    "# Ax 1 - 2000\n",
    "sns.scatterplot(ax=ax_1, data = df_2015, x='Health expenditure', y = 'Life Expectancy', hue = 'Continent')\n",
    "sns.rugplot(ax=ax_1, data = df_2015, x='Health expenditure', y = 'Life Expectancy', hue = 'Continent')\n",
    "ax_1.set_title('2000')\n",
    "ax_1.set_xlabel('Health expenditure')\n",
    "ax_1.set_ylabel('Life Expectancy')\n",
    "\n",
    "# Ax 2 -  2015\n",
    "sns.scatterplot(ax=ax_2, data = df_2015, x='Health expenditure', y = 'Life Expectancy', hue = 'Continent')\n",
    "sns.rugplot(ax=ax_2, data = df_2015, x='Health expenditure', y = 'Life Expectancy', hue = 'Continent')\n",
    "ax_2.set_title('2015')\n",
    "ax_2.set_xlabel('Health expenditure')\n",
    "ax_2.set_ylabel('Life Expectancy')\n",
    "plt.show()"
   ]
  },
  {
   "cell_type": "markdown",
   "metadata": {},
   "source": [
    "### Plotly"
   ]
  },
  {
   "cell_type": "code",
   "execution_count": 124,
   "metadata": {},
   "outputs": [
    {
     "data": {
      "application/vnd.plotly.v1+json": {
       "config": {
        "plotlyServerURL": "https://plot.ly"
       },
       "data": [
        {
         "hovertemplate": "Continent=Europe<br>Health expenditure=%{x}<br>Life Expectancy=%{y}<extra></extra>",
         "legendgroup": "Europe",
         "marker": {
          "color": "rgb(76,114,176)",
          "symbol": "circle"
         },
         "mode": "markers",
         "name": "Europe",
         "orientation": "v",
         "showlegend": true,
         "type": "scatter",
         "x": [
          4.89631176,
          10.36746693,
          6.06533337,
          10.43065357,
          7.41093588,
          6.78702879,
          6.75352287,
          7.19641542,
          10.22716618,
          6.34629202,
          9.64523888,
          11.4475565,
          11.18370342,
          8.06892395,
          6.85949564,
          7.31605005,
          8.85689163,
          5.65469503,
          6.49043989,
          5.28378248,
          8.89759541,
          8.55763531,
          9.02188778,
          10.32393837,
          6.34227896,
          10.13146877,
          6.39477158,
          9.31645775,
          4.94721556,
          5.29604387,
          8.8132,
          6.7925415,
          8.49823952,
          9.12617207,
          10.80418396,
          11.00794983,
          7.77609348,
          9.90072441
         ],
         "xaxis": "x",
         "y": [
          78.025,
          81.1902439,
          73.62439024,
          80.99268293,
          74.61463415,
          77.27560976,
          80.35,
          78.57804878,
          80.70243902,
          77.5902439,
          81.4804878,
          82.32195122,
          80.64146341,
          81.03658537,
          75.56829268,
          81.45365854,
          82.54390244,
          74.4804878,
          74.32195122,
          82.29268293,
          81.89756098,
          71.478,
          76.44878049,
          81.5097561,
          75.40243902,
          82.30487805,
          77.45121951,
          81.12439024,
          74.91219512,
          71.18341463,
          75.28780488,
          76.56341463,
          80.77560976,
          82.83170732,
          82.20487805,
          82.89756098,
          71.1895122,
          80.95609756
         ],
         "yaxis": "y"
        },
        {
         "hovertemplate": "Continent=Africa<br>Health expenditure=%{x}<br>Life Expectancy=%{y}<extra></extra>",
         "legendgroup": "Africa",
         "marker": {
          "color": "rgb(221,132,82)",
          "symbol": "circle"
         },
         "mode": "markers",
         "name": "Africa",
         "orientation": "v",
         "showlegend": true,
         "type": "scatter",
         "x": [
          6.9784894,
          2.60579491,
          2.90741682,
          5.72629929,
          3.74879193,
          3.97874045,
          1.97311711,
          3.21990895,
          5.02518845,
          4.45335484,
          3.82317114,
          2.6574378,
          4.62171459,
          5.21938562,
          8.978,
          5.6999588,
          5.06548977,
          6.7166338,
          9.98109627,
          5.34746218,
          3.58194971,
          4.38257313,
          8.79018974,
          7.26747084,
          3.64969921,
          4.9564662,
          6.62154102,
          7.45206605
         ],
         "xaxis": "x",
         "y": [
          76.09,
          59.398,
          60.608,
          67.338,
          57.583,
          58.828,
          62.582,
          56.065,
          71.117,
          64.664,
          65.048,
          64.913,
          62.772,
          64.798,
          72.121,
          74.35317073,
          75.726,
          57.206,
          62.119,
          60.631,
          53.112,
          66.747,
          62.649,
          64.429,
          63.111,
          59.927,
          75.922,
          59.534
         ],
         "yaxis": "y"
        },
        {
         "hovertemplate": "Continent=South America<br>Health expenditure=%{x}<br>Life Expectancy=%{y}<extra></extra>",
         "legendgroup": "South America",
         "marker": {
          "color": "rgb(85,168,104)",
          "symbol": "circle"
         },
         "mode": "markers",
         "name": "South America",
         "orientation": "v",
         "showlegend": true,
         "type": "scatter",
         "x": [
          10.22933865,
          6.55064964,
          8.90929508,
          8.30269146,
          7.52338552,
          7.49149466,
          6.70042467,
          4.97963047,
          8.29223633,
          5.77645016
         ],
         "xaxis": "x",
         "y": [
          76.068,
          70.277,
          74.994,
          79.646,
          76.531,
          76.143,
          73.662,
          75.792,
          77.369,
          72.762
         ],
         "yaxis": "y"
        },
        {
         "hovertemplate": "Continent=Asia<br>Health expenditure=%{x}<br>Life Expectancy=%{y}<extra></extra>",
         "legendgroup": "Asia",
         "marker": {
          "color": "rgb(196,78,82)",
          "symbol": "circle"
         },
         "mode": "markers",
         "name": "Asia",
         "orientation": "v",
         "showlegend": true,
         "type": "scatter",
         "x": [
          10.11763382,
          4.9869976,
          2.63947296,
          2.38708901,
          6.19431591,
          4.93827963,
          7.42301512,
          3.59565997,
          2.92428517,
          6.75900412,
          3.14434433,
          7.09919786,
          7.4609561,
          3.04051137,
          4.21497965,
          7.14930916,
          3.81819606,
          4.23834085,
          5.47780514,
          5.46615076,
          4.3044014,
          2.68711925,
          3.89827442,
          3.00097346,
          5.9983449,
          3.88992095,
          6.9073596,
          3.66788888,
          4.11690378,
          4.84180498
         ],
         "xaxis": "x",
         "y": [
          74.467,
          76.762,
          71.514,
          75.318,
          68.637,
          75.928,
          72.973,
          68.607,
          70.768,
          75.502,
          69.929,
          82.05121951,
          74.078,
          71.97,
          75.13,
          70.65121951,
          75.461,
          69.111,
          65.81,
          69.515,
          76.887,
          66.577,
          70.644,
          79.758,
          74.651,
          76.316,
          70.137,
          76.091,
          76.532,
          66.066
         ],
         "yaxis": "y"
        },
        {
         "hovertemplate": "Continent=Oceania<br>Health expenditure=%{x}<br>Life Expectancy=%{y}<extra></extra>",
         "legendgroup": "Oceania",
         "marker": {
          "color": "rgb(129,114,179)",
          "symbol": "circle"
         },
         "mode": "markers",
         "name": "Oceania",
         "orientation": "v",
         "showlegend": true,
         "type": "scatter",
         "x": [
          9.32758904,
          9.28344345
         ],
         "xaxis": "x",
         "y": [
          82.4,
          81.45682927
         ],
         "yaxis": "y"
        },
        {
         "hovertemplate": "Continent=North America<br>Health expenditure=%{x}<br>Life Expectancy=%{y}<extra></extra>",
         "legendgroup": "North America",
         "marker": {
          "color": "rgb(147,120,96)",
          "symbol": "circle"
         },
         "mode": "markers",
         "name": "North America",
         "orientation": "v",
         "showlegend": true,
         "type": "scatter",
         "x": [
          10.73320484,
          7.59196186,
          7.63034058,
          6.00602055,
          7.48378992,
          5.62469387,
          5.72277403,
          7.96303225,
          6.8090291,
          6.07862949,
          16.52407265
         ],
         "xaxis": "x",
         "y": [
          81.9,
          79.565,
          72.412,
          73.25,
          74.495,
          74.098,
          74.904,
          73.649,
          77.776,
          72.941,
          78.6902439
         ],
         "yaxis": "y"
        }
       ],
       "layout": {
        "legend": {
         "title": {
          "text": "Continent"
         },
         "tracegroupgap": 0
        },
        "margin": {
         "t": 60
        },
        "template": {
         "data": {
          "bar": [
           {
            "error_x": {
             "color": "rgb(36,36,36)"
            },
            "error_y": {
             "color": "rgb(36,36,36)"
            },
            "marker": {
             "line": {
              "color": "rgb(234,234,242)",
              "width": 0.5
             },
             "pattern": {
              "fillmode": "overlay",
              "size": 10,
              "solidity": 0.2
             }
            },
            "type": "bar"
           }
          ],
          "barpolar": [
           {
            "marker": {
             "line": {
              "color": "rgb(234,234,242)",
              "width": 0.5
             },
             "pattern": {
              "fillmode": "overlay",
              "size": 10,
              "solidity": 0.2
             }
            },
            "type": "barpolar"
           }
          ],
          "carpet": [
           {
            "aaxis": {
             "endlinecolor": "rgb(36,36,36)",
             "gridcolor": "white",
             "linecolor": "white",
             "minorgridcolor": "white",
             "startlinecolor": "rgb(36,36,36)"
            },
            "baxis": {
             "endlinecolor": "rgb(36,36,36)",
             "gridcolor": "white",
             "linecolor": "white",
             "minorgridcolor": "white",
             "startlinecolor": "rgb(36,36,36)"
            },
            "type": "carpet"
           }
          ],
          "choropleth": [
           {
            "colorbar": {
             "outlinewidth": 0,
             "tickcolor": "rgb(36,36,36)",
             "ticklen": 8,
             "ticks": "outside",
             "tickwidth": 2
            },
            "type": "choropleth"
           }
          ],
          "contour": [
           {
            "colorbar": {
             "outlinewidth": 0,
             "tickcolor": "rgb(36,36,36)",
             "ticklen": 8,
             "ticks": "outside",
             "tickwidth": 2
            },
            "colorscale": [
             [
              0,
              "rgb(2,4,25)"
             ],
             [
              0.06274509803921569,
              "rgb(24,15,41)"
             ],
             [
              0.12549019607843137,
              "rgb(47,23,57)"
             ],
             [
              0.18823529411764706,
              "rgb(71,28,72)"
             ],
             [
              0.25098039215686274,
              "rgb(97,30,82)"
             ],
             [
              0.3137254901960784,
              "rgb(123,30,89)"
             ],
             [
              0.3764705882352941,
              "rgb(150,27,91)"
             ],
             [
              0.4392156862745098,
              "rgb(177,22,88)"
             ],
             [
              0.5019607843137255,
              "rgb(203,26,79)"
             ],
             [
              0.5647058823529412,
              "rgb(223,47,67)"
             ],
             [
              0.6274509803921569,
              "rgb(236,76,61)"
             ],
             [
              0.6901960784313725,
              "rgb(242,107,73)"
             ],
             [
              0.7529411764705882,
              "rgb(244,135,95)"
             ],
             [
              0.8156862745098039,
              "rgb(245,162,122)"
             ],
             [
              0.8784313725490196,
              "rgb(246,188,153)"
             ],
             [
              0.9411764705882353,
              "rgb(247,212,187)"
             ],
             [
              1,
              "rgb(250,234,220)"
             ]
            ],
            "type": "contour"
           }
          ],
          "contourcarpet": [
           {
            "colorbar": {
             "outlinewidth": 0,
             "tickcolor": "rgb(36,36,36)",
             "ticklen": 8,
             "ticks": "outside",
             "tickwidth": 2
            },
            "type": "contourcarpet"
           }
          ],
          "heatmap": [
           {
            "colorbar": {
             "outlinewidth": 0,
             "tickcolor": "rgb(36,36,36)",
             "ticklen": 8,
             "ticks": "outside",
             "tickwidth": 2
            },
            "colorscale": [
             [
              0,
              "rgb(2,4,25)"
             ],
             [
              0.06274509803921569,
              "rgb(24,15,41)"
             ],
             [
              0.12549019607843137,
              "rgb(47,23,57)"
             ],
             [
              0.18823529411764706,
              "rgb(71,28,72)"
             ],
             [
              0.25098039215686274,
              "rgb(97,30,82)"
             ],
             [
              0.3137254901960784,
              "rgb(123,30,89)"
             ],
             [
              0.3764705882352941,
              "rgb(150,27,91)"
             ],
             [
              0.4392156862745098,
              "rgb(177,22,88)"
             ],
             [
              0.5019607843137255,
              "rgb(203,26,79)"
             ],
             [
              0.5647058823529412,
              "rgb(223,47,67)"
             ],
             [
              0.6274509803921569,
              "rgb(236,76,61)"
             ],
             [
              0.6901960784313725,
              "rgb(242,107,73)"
             ],
             [
              0.7529411764705882,
              "rgb(244,135,95)"
             ],
             [
              0.8156862745098039,
              "rgb(245,162,122)"
             ],
             [
              0.8784313725490196,
              "rgb(246,188,153)"
             ],
             [
              0.9411764705882353,
              "rgb(247,212,187)"
             ],
             [
              1,
              "rgb(250,234,220)"
             ]
            ],
            "type": "heatmap"
           }
          ],
          "heatmapgl": [
           {
            "colorbar": {
             "outlinewidth": 0,
             "tickcolor": "rgb(36,36,36)",
             "ticklen": 8,
             "ticks": "outside",
             "tickwidth": 2
            },
            "colorscale": [
             [
              0,
              "rgb(2,4,25)"
             ],
             [
              0.06274509803921569,
              "rgb(24,15,41)"
             ],
             [
              0.12549019607843137,
              "rgb(47,23,57)"
             ],
             [
              0.18823529411764706,
              "rgb(71,28,72)"
             ],
             [
              0.25098039215686274,
              "rgb(97,30,82)"
             ],
             [
              0.3137254901960784,
              "rgb(123,30,89)"
             ],
             [
              0.3764705882352941,
              "rgb(150,27,91)"
             ],
             [
              0.4392156862745098,
              "rgb(177,22,88)"
             ],
             [
              0.5019607843137255,
              "rgb(203,26,79)"
             ],
             [
              0.5647058823529412,
              "rgb(223,47,67)"
             ],
             [
              0.6274509803921569,
              "rgb(236,76,61)"
             ],
             [
              0.6901960784313725,
              "rgb(242,107,73)"
             ],
             [
              0.7529411764705882,
              "rgb(244,135,95)"
             ],
             [
              0.8156862745098039,
              "rgb(245,162,122)"
             ],
             [
              0.8784313725490196,
              "rgb(246,188,153)"
             ],
             [
              0.9411764705882353,
              "rgb(247,212,187)"
             ],
             [
              1,
              "rgb(250,234,220)"
             ]
            ],
            "type": "heatmapgl"
           }
          ],
          "histogram": [
           {
            "marker": {
             "pattern": {
              "fillmode": "overlay",
              "size": 10,
              "solidity": 0.2
             }
            },
            "type": "histogram"
           }
          ],
          "histogram2d": [
           {
            "colorbar": {
             "outlinewidth": 0,
             "tickcolor": "rgb(36,36,36)",
             "ticklen": 8,
             "ticks": "outside",
             "tickwidth": 2
            },
            "colorscale": [
             [
              0,
              "rgb(2,4,25)"
             ],
             [
              0.06274509803921569,
              "rgb(24,15,41)"
             ],
             [
              0.12549019607843137,
              "rgb(47,23,57)"
             ],
             [
              0.18823529411764706,
              "rgb(71,28,72)"
             ],
             [
              0.25098039215686274,
              "rgb(97,30,82)"
             ],
             [
              0.3137254901960784,
              "rgb(123,30,89)"
             ],
             [
              0.3764705882352941,
              "rgb(150,27,91)"
             ],
             [
              0.4392156862745098,
              "rgb(177,22,88)"
             ],
             [
              0.5019607843137255,
              "rgb(203,26,79)"
             ],
             [
              0.5647058823529412,
              "rgb(223,47,67)"
             ],
             [
              0.6274509803921569,
              "rgb(236,76,61)"
             ],
             [
              0.6901960784313725,
              "rgb(242,107,73)"
             ],
             [
              0.7529411764705882,
              "rgb(244,135,95)"
             ],
             [
              0.8156862745098039,
              "rgb(245,162,122)"
             ],
             [
              0.8784313725490196,
              "rgb(246,188,153)"
             ],
             [
              0.9411764705882353,
              "rgb(247,212,187)"
             ],
             [
              1,
              "rgb(250,234,220)"
             ]
            ],
            "type": "histogram2d"
           }
          ],
          "histogram2dcontour": [
           {
            "colorbar": {
             "outlinewidth": 0,
             "tickcolor": "rgb(36,36,36)",
             "ticklen": 8,
             "ticks": "outside",
             "tickwidth": 2
            },
            "colorscale": [
             [
              0,
              "rgb(2,4,25)"
             ],
             [
              0.06274509803921569,
              "rgb(24,15,41)"
             ],
             [
              0.12549019607843137,
              "rgb(47,23,57)"
             ],
             [
              0.18823529411764706,
              "rgb(71,28,72)"
             ],
             [
              0.25098039215686274,
              "rgb(97,30,82)"
             ],
             [
              0.3137254901960784,
              "rgb(123,30,89)"
             ],
             [
              0.3764705882352941,
              "rgb(150,27,91)"
             ],
             [
              0.4392156862745098,
              "rgb(177,22,88)"
             ],
             [
              0.5019607843137255,
              "rgb(203,26,79)"
             ],
             [
              0.5647058823529412,
              "rgb(223,47,67)"
             ],
             [
              0.6274509803921569,
              "rgb(236,76,61)"
             ],
             [
              0.6901960784313725,
              "rgb(242,107,73)"
             ],
             [
              0.7529411764705882,
              "rgb(244,135,95)"
             ],
             [
              0.8156862745098039,
              "rgb(245,162,122)"
             ],
             [
              0.8784313725490196,
              "rgb(246,188,153)"
             ],
             [
              0.9411764705882353,
              "rgb(247,212,187)"
             ],
             [
              1,
              "rgb(250,234,220)"
             ]
            ],
            "type": "histogram2dcontour"
           }
          ],
          "mesh3d": [
           {
            "colorbar": {
             "outlinewidth": 0,
             "tickcolor": "rgb(36,36,36)",
             "ticklen": 8,
             "ticks": "outside",
             "tickwidth": 2
            },
            "type": "mesh3d"
           }
          ],
          "parcoords": [
           {
            "line": {
             "colorbar": {
              "outlinewidth": 0,
              "tickcolor": "rgb(36,36,36)",
              "ticklen": 8,
              "ticks": "outside",
              "tickwidth": 2
             }
            },
            "type": "parcoords"
           }
          ],
          "pie": [
           {
            "automargin": true,
            "type": "pie"
           }
          ],
          "scatter": [
           {
            "fillpattern": {
             "fillmode": "overlay",
             "size": 10,
             "solidity": 0.2
            },
            "type": "scatter"
           }
          ],
          "scatter3d": [
           {
            "line": {
             "colorbar": {
              "outlinewidth": 0,
              "tickcolor": "rgb(36,36,36)",
              "ticklen": 8,
              "ticks": "outside",
              "tickwidth": 2
             }
            },
            "marker": {
             "colorbar": {
              "outlinewidth": 0,
              "tickcolor": "rgb(36,36,36)",
              "ticklen": 8,
              "ticks": "outside",
              "tickwidth": 2
             }
            },
            "type": "scatter3d"
           }
          ],
          "scattercarpet": [
           {
            "marker": {
             "colorbar": {
              "outlinewidth": 0,
              "tickcolor": "rgb(36,36,36)",
              "ticklen": 8,
              "ticks": "outside",
              "tickwidth": 2
             }
            },
            "type": "scattercarpet"
           }
          ],
          "scattergeo": [
           {
            "marker": {
             "colorbar": {
              "outlinewidth": 0,
              "tickcolor": "rgb(36,36,36)",
              "ticklen": 8,
              "ticks": "outside",
              "tickwidth": 2
             }
            },
            "type": "scattergeo"
           }
          ],
          "scattergl": [
           {
            "marker": {
             "colorbar": {
              "outlinewidth": 0,
              "tickcolor": "rgb(36,36,36)",
              "ticklen": 8,
              "ticks": "outside",
              "tickwidth": 2
             }
            },
            "type": "scattergl"
           }
          ],
          "scattermapbox": [
           {
            "marker": {
             "colorbar": {
              "outlinewidth": 0,
              "tickcolor": "rgb(36,36,36)",
              "ticklen": 8,
              "ticks": "outside",
              "tickwidth": 2
             }
            },
            "type": "scattermapbox"
           }
          ],
          "scatterpolar": [
           {
            "marker": {
             "colorbar": {
              "outlinewidth": 0,
              "tickcolor": "rgb(36,36,36)",
              "ticklen": 8,
              "ticks": "outside",
              "tickwidth": 2
             }
            },
            "type": "scatterpolar"
           }
          ],
          "scatterpolargl": [
           {
            "marker": {
             "colorbar": {
              "outlinewidth": 0,
              "tickcolor": "rgb(36,36,36)",
              "ticklen": 8,
              "ticks": "outside",
              "tickwidth": 2
             }
            },
            "type": "scatterpolargl"
           }
          ],
          "scatterternary": [
           {
            "marker": {
             "colorbar": {
              "outlinewidth": 0,
              "tickcolor": "rgb(36,36,36)",
              "ticklen": 8,
              "ticks": "outside",
              "tickwidth": 2
             }
            },
            "type": "scatterternary"
           }
          ],
          "surface": [
           {
            "colorbar": {
             "outlinewidth": 0,
             "tickcolor": "rgb(36,36,36)",
             "ticklen": 8,
             "ticks": "outside",
             "tickwidth": 2
            },
            "colorscale": [
             [
              0,
              "rgb(2,4,25)"
             ],
             [
              0.06274509803921569,
              "rgb(24,15,41)"
             ],
             [
              0.12549019607843137,
              "rgb(47,23,57)"
             ],
             [
              0.18823529411764706,
              "rgb(71,28,72)"
             ],
             [
              0.25098039215686274,
              "rgb(97,30,82)"
             ],
             [
              0.3137254901960784,
              "rgb(123,30,89)"
             ],
             [
              0.3764705882352941,
              "rgb(150,27,91)"
             ],
             [
              0.4392156862745098,
              "rgb(177,22,88)"
             ],
             [
              0.5019607843137255,
              "rgb(203,26,79)"
             ],
             [
              0.5647058823529412,
              "rgb(223,47,67)"
             ],
             [
              0.6274509803921569,
              "rgb(236,76,61)"
             ],
             [
              0.6901960784313725,
              "rgb(242,107,73)"
             ],
             [
              0.7529411764705882,
              "rgb(244,135,95)"
             ],
             [
              0.8156862745098039,
              "rgb(245,162,122)"
             ],
             [
              0.8784313725490196,
              "rgb(246,188,153)"
             ],
             [
              0.9411764705882353,
              "rgb(247,212,187)"
             ],
             [
              1,
              "rgb(250,234,220)"
             ]
            ],
            "type": "surface"
           }
          ],
          "table": [
           {
            "cells": {
             "fill": {
              "color": "rgb(231,231,240)"
             },
             "line": {
              "color": "white"
             }
            },
            "header": {
             "fill": {
              "color": "rgb(183,183,191)"
             },
             "line": {
              "color": "white"
             }
            },
            "type": "table"
           }
          ]
         },
         "layout": {
          "annotationdefaults": {
           "arrowcolor": "rgb(67,103,167)"
          },
          "autotypenumbers": "strict",
          "coloraxis": {
           "colorbar": {
            "outlinewidth": 0,
            "tickcolor": "rgb(36,36,36)",
            "ticklen": 8,
            "ticks": "outside",
            "tickwidth": 2
           }
          },
          "colorscale": {
           "sequential": [
            [
             0,
             "rgb(2,4,25)"
            ],
            [
             0.06274509803921569,
             "rgb(24,15,41)"
            ],
            [
             0.12549019607843137,
             "rgb(47,23,57)"
            ],
            [
             0.18823529411764706,
             "rgb(71,28,72)"
            ],
            [
             0.25098039215686274,
             "rgb(97,30,82)"
            ],
            [
             0.3137254901960784,
             "rgb(123,30,89)"
            ],
            [
             0.3764705882352941,
             "rgb(150,27,91)"
            ],
            [
             0.4392156862745098,
             "rgb(177,22,88)"
            ],
            [
             0.5019607843137255,
             "rgb(203,26,79)"
            ],
            [
             0.5647058823529412,
             "rgb(223,47,67)"
            ],
            [
             0.6274509803921569,
             "rgb(236,76,61)"
            ],
            [
             0.6901960784313725,
             "rgb(242,107,73)"
            ],
            [
             0.7529411764705882,
             "rgb(244,135,95)"
            ],
            [
             0.8156862745098039,
             "rgb(245,162,122)"
            ],
            [
             0.8784313725490196,
             "rgb(246,188,153)"
            ],
            [
             0.9411764705882353,
             "rgb(247,212,187)"
            ],
            [
             1,
             "rgb(250,234,220)"
            ]
           ],
           "sequentialminus": [
            [
             0,
             "rgb(2,4,25)"
            ],
            [
             0.06274509803921569,
             "rgb(24,15,41)"
            ],
            [
             0.12549019607843137,
             "rgb(47,23,57)"
            ],
            [
             0.18823529411764706,
             "rgb(71,28,72)"
            ],
            [
             0.25098039215686274,
             "rgb(97,30,82)"
            ],
            [
             0.3137254901960784,
             "rgb(123,30,89)"
            ],
            [
             0.3764705882352941,
             "rgb(150,27,91)"
            ],
            [
             0.4392156862745098,
             "rgb(177,22,88)"
            ],
            [
             0.5019607843137255,
             "rgb(203,26,79)"
            ],
            [
             0.5647058823529412,
             "rgb(223,47,67)"
            ],
            [
             0.6274509803921569,
             "rgb(236,76,61)"
            ],
            [
             0.6901960784313725,
             "rgb(242,107,73)"
            ],
            [
             0.7529411764705882,
             "rgb(244,135,95)"
            ],
            [
             0.8156862745098039,
             "rgb(245,162,122)"
            ],
            [
             0.8784313725490196,
             "rgb(246,188,153)"
            ],
            [
             0.9411764705882353,
             "rgb(247,212,187)"
            ],
            [
             1,
             "rgb(250,234,220)"
            ]
           ]
          },
          "colorway": [
           "rgb(76,114,176)",
           "rgb(221,132,82)",
           "rgb(85,168,104)",
           "rgb(196,78,82)",
           "rgb(129,114,179)",
           "rgb(147,120,96)",
           "rgb(218,139,195)",
           "rgb(140,140,140)",
           "rgb(204,185,116)",
           "rgb(100,181,205)"
          ],
          "font": {
           "color": "rgb(36,36,36)"
          },
          "geo": {
           "bgcolor": "white",
           "lakecolor": "white",
           "landcolor": "rgb(234,234,242)",
           "showlakes": true,
           "showland": true,
           "subunitcolor": "white"
          },
          "hoverlabel": {
           "align": "left"
          },
          "hovermode": "closest",
          "paper_bgcolor": "white",
          "plot_bgcolor": "rgb(234,234,242)",
          "polar": {
           "angularaxis": {
            "gridcolor": "white",
            "linecolor": "white",
            "showgrid": true,
            "ticks": ""
           },
           "bgcolor": "rgb(234,234,242)",
           "radialaxis": {
            "gridcolor": "white",
            "linecolor": "white",
            "showgrid": true,
            "ticks": ""
           }
          },
          "scene": {
           "xaxis": {
            "backgroundcolor": "rgb(234,234,242)",
            "gridcolor": "white",
            "gridwidth": 2,
            "linecolor": "white",
            "showbackground": true,
            "showgrid": true,
            "ticks": "",
            "zerolinecolor": "white"
           },
           "yaxis": {
            "backgroundcolor": "rgb(234,234,242)",
            "gridcolor": "white",
            "gridwidth": 2,
            "linecolor": "white",
            "showbackground": true,
            "showgrid": true,
            "ticks": "",
            "zerolinecolor": "white"
           },
           "zaxis": {
            "backgroundcolor": "rgb(234,234,242)",
            "gridcolor": "white",
            "gridwidth": 2,
            "linecolor": "white",
            "showbackground": true,
            "showgrid": true,
            "ticks": "",
            "zerolinecolor": "white"
           }
          },
          "shapedefaults": {
           "fillcolor": "rgb(67,103,167)",
           "line": {
            "width": 0
           },
           "opacity": 0.5
          },
          "ternary": {
           "aaxis": {
            "gridcolor": "white",
            "linecolor": "white",
            "showgrid": true,
            "ticks": ""
           },
           "baxis": {
            "gridcolor": "white",
            "linecolor": "white",
            "showgrid": true,
            "ticks": ""
           },
           "bgcolor": "rgb(234,234,242)",
           "caxis": {
            "gridcolor": "white",
            "linecolor": "white",
            "showgrid": true,
            "ticks": ""
           }
          },
          "xaxis": {
           "automargin": true,
           "gridcolor": "white",
           "linecolor": "white",
           "showgrid": true,
           "ticks": "",
           "title": {
            "standoff": 15
           },
           "zerolinecolor": "white"
          },
          "yaxis": {
           "automargin": true,
           "gridcolor": "white",
           "linecolor": "white",
           "showgrid": true,
           "ticks": "",
           "title": {
            "standoff": 15
           },
           "zerolinecolor": "white"
          }
         }
        },
        "xaxis": {
         "anchor": "y",
         "domain": [
          0,
          1
         ],
         "title": {
          "text": "Health Expenditure"
         }
        },
        "yaxis": {
         "anchor": "x",
         "domain": [
          0,
          1
         ],
         "title": {
          "text": "Life Expectancy"
         }
        }
       }
      }
     },
     "metadata": {},
     "output_type": "display_data"
    }
   ],
   "source": [
    "#teste = df[df.loc[:,'Continent']=='Europe']\n",
    "teste = df[df.loc[:,'Year']==2015]\n",
    "\n",
    "#teste=teste.groupby('Country')['Obesity among adults'].mean()\n",
    "\n",
    "fig = px.scatter(teste, y = 'Life Expectancy', x='Health expenditure', color='Continent', template='seaborn')\n",
    "\n",
    "fig.update_layout(xaxis_title='Health Expenditure',\n",
    "                  yaxis_title='Life Expectancy')\n",
    "\n",
    "fig.show()"
   ]
  },
  {
   "cell_type": "code",
   "execution_count": 134,
   "metadata": {},
   "outputs": [
    {
     "data": {
      "text/plain": [
       "72.66493861402745"
      ]
     },
     "execution_count": 134,
     "metadata": {},
     "output_type": "execute_result"
    }
   ],
   "source": [
    "df.groupby('Continent')['Life Expectancy'].mean().values.mean()"
   ]
  },
  {
   "cell_type": "code",
   "execution_count": 130,
   "metadata": {},
   "outputs": [
    {
     "data": {
      "text/html": [
       "<div>\n",
       "<style scoped>\n",
       "    .dataframe tbody tr th:only-of-type {\n",
       "        vertical-align: middle;\n",
       "    }\n",
       "\n",
       "    .dataframe tbody tr th {\n",
       "        vertical-align: top;\n",
       "    }\n",
       "\n",
       "    .dataframe thead th {\n",
       "        text-align: right;\n",
       "    }\n",
       "</style>\n",
       "<table border=\"1\" class=\"dataframe\">\n",
       "  <thead>\n",
       "    <tr style=\"text-align: right;\">\n",
       "      <th></th>\n",
       "      <th>Country</th>\n",
       "      <th>Year</th>\n",
       "      <th>Continent</th>\n",
       "      <th>Least Developed</th>\n",
       "      <th>Life Expectancy</th>\n",
       "      <th>Population</th>\n",
       "      <th>CO2 emissions</th>\n",
       "      <th>Health expenditure</th>\n",
       "      <th>Electric power consumption</th>\n",
       "      <th>Forest area</th>\n",
       "      <th>GDP per capita</th>\n",
       "      <th>Individuals using the Internet</th>\n",
       "      <th>Military expenditure</th>\n",
       "      <th>People practicing open defecation</th>\n",
       "      <th>People using at least basic drinking water services</th>\n",
       "      <th>Obesity among adults</th>\n",
       "      <th>Beer consumption per capita</th>\n",
       "    </tr>\n",
       "  </thead>\n",
       "  <tbody>\n",
       "    <tr>\n",
       "      <th>1839</th>\n",
       "      <td>United States</td>\n",
       "      <td>2015</td>\n",
       "      <td>North America</td>\n",
       "      <td>False</td>\n",
       "      <td>78.690244</td>\n",
       "      <td>320738994</td>\n",
       "      <td>15.560035</td>\n",
       "      <td>16.524073</td>\n",
       "      <td>12993.965580</td>\n",
       "      <td>33.899723</td>\n",
       "      <td>56762.729450</td>\n",
       "      <td>74.554202</td>\n",
       "      <td>3.477845</td>\n",
       "      <td>0.000000</td>\n",
       "      <td>99.447158</td>\n",
       "      <td>36.7</td>\n",
       "      <td>4.13</td>\n",
       "    </tr>\n",
       "    <tr>\n",
       "      <th>319</th>\n",
       "      <td>Canada</td>\n",
       "      <td>2015</td>\n",
       "      <td>North America</td>\n",
       "      <td>False</td>\n",
       "      <td>81.900000</td>\n",
       "      <td>35702908</td>\n",
       "      <td>15.648586</td>\n",
       "      <td>10.733205</td>\n",
       "      <td>15588.487150</td>\n",
       "      <td>38.716438</td>\n",
       "      <td>44670.080540</td>\n",
       "      <td>90.000000</td>\n",
       "      <td>1.152709</td>\n",
       "      <td>0.000000</td>\n",
       "      <td>99.229221</td>\n",
       "      <td>30.7</td>\n",
       "      <td>3.70</td>\n",
       "    </tr>\n",
       "    <tr>\n",
       "      <th>1263</th>\n",
       "      <td>Nicaragua</td>\n",
       "      <td>2015</td>\n",
       "      <td>North America</td>\n",
       "      <td>False</td>\n",
       "      <td>73.649000</td>\n",
       "      <td>6223234</td>\n",
       "      <td>0.846827</td>\n",
       "      <td>7.963032</td>\n",
       "      <td>568.313718</td>\n",
       "      <td>32.470750</td>\n",
       "      <td>5293.870462</td>\n",
       "      <td>19.704292</td>\n",
       "      <td>0.775537</td>\n",
       "      <td>7.445650</td>\n",
       "      <td>81.353129</td>\n",
       "      <td>21.2</td>\n",
       "      <td>1.44</td>\n",
       "    </tr>\n",
       "    <tr>\n",
       "      <th>543</th>\n",
       "      <td>El Salvador</td>\n",
       "      <td>2015</td>\n",
       "      <td>North America</td>\n",
       "      <td>False</td>\n",
       "      <td>72.412000</td>\n",
       "      <td>6325121</td>\n",
       "      <td>1.106698</td>\n",
       "      <td>7.630341</td>\n",
       "      <td>937.074472</td>\n",
       "      <td>29.265444</td>\n",
       "      <td>7597.689174</td>\n",
       "      <td>26.802605</td>\n",
       "      <td>1.056820</td>\n",
       "      <td>2.202425</td>\n",
       "      <td>95.562138</td>\n",
       "      <td>22.1</td>\n",
       "      <td>1.16</td>\n",
       "    </tr>\n",
       "    <tr>\n",
       "      <th>415</th>\n",
       "      <td>Costa Rica</td>\n",
       "      <td>2015</td>\n",
       "      <td>North America</td>\n",
       "      <td>False</td>\n",
       "      <td>79.565000</td>\n",
       "      <td>4847805</td>\n",
       "      <td>1.555343</td>\n",
       "      <td>7.591962</td>\n",
       "      <td>1942.490600</td>\n",
       "      <td>57.834508</td>\n",
       "      <td>17090.796580</td>\n",
       "      <td>59.762950</td>\n",
       "      <td>0.000000</td>\n",
       "      <td>0.265891</td>\n",
       "      <td>99.378687</td>\n",
       "      <td>24.8</td>\n",
       "      <td>2.26</td>\n",
       "    </tr>\n",
       "    <tr>\n",
       "      <th>735</th>\n",
       "      <td>Honduras</td>\n",
       "      <td>2015</td>\n",
       "      <td>North America</td>\n",
       "      <td>False</td>\n",
       "      <td>74.495000</td>\n",
       "      <td>9112904</td>\n",
       "      <td>1.089664</td>\n",
       "      <td>7.483790</td>\n",
       "      <td>619.837087</td>\n",
       "      <td>57.769506</td>\n",
       "      <td>4823.395396</td>\n",
       "      <td>27.100000</td>\n",
       "      <td>1.671276</td>\n",
       "      <td>7.515632</td>\n",
       "      <td>93.254411</td>\n",
       "      <td>18.7</td>\n",
       "      <td>1.22</td>\n",
       "    </tr>\n",
       "    <tr>\n",
       "      <th>1375</th>\n",
       "      <td>Panama</td>\n",
       "      <td>2015</td>\n",
       "      <td>North America</td>\n",
       "      <td>False</td>\n",
       "      <td>77.776000</td>\n",
       "      <td>3968490</td>\n",
       "      <td>2.696240</td>\n",
       "      <td>6.809029</td>\n",
       "      <td>2064.177914</td>\n",
       "      <td>57.621560</td>\n",
       "      <td>25319.216700</td>\n",
       "      <td>51.205425</td>\n",
       "      <td>0.000000</td>\n",
       "      <td>5.033525</td>\n",
       "      <td>92.904366</td>\n",
       "      <td>21.9</td>\n",
       "      <td>5.36</td>\n",
       "    </tr>\n",
       "    <tr>\n",
       "      <th>1759</th>\n",
       "      <td>Trinidad and Tobago</td>\n",
       "      <td>2015</td>\n",
       "      <td>North America</td>\n",
       "      <td>False</td>\n",
       "      <td>72.941000</td>\n",
       "      <td>1370332</td>\n",
       "      <td>15.565571</td>\n",
       "      <td>6.078629</td>\n",
       "      <td>7092.958644</td>\n",
       "      <td>44.890838</td>\n",
       "      <td>27651.728170</td>\n",
       "      <td>65.100000</td>\n",
       "      <td>0.833206</td>\n",
       "      <td>0.038231</td>\n",
       "      <td>98.136178</td>\n",
       "      <td>18.9</td>\n",
       "      <td>2.83</td>\n",
       "    </tr>\n",
       "    <tr>\n",
       "      <th>719</th>\n",
       "      <td>Guatemala</td>\n",
       "      <td>2015</td>\n",
       "      <td>North America</td>\n",
       "      <td>False</td>\n",
       "      <td>73.250000</td>\n",
       "      <td>15567419</td>\n",
       "      <td>1.049628</td>\n",
       "      <td>6.006021</td>\n",
       "      <td>601.189731</td>\n",
       "      <td>33.462113</td>\n",
       "      <td>8194.440681</td>\n",
       "      <td>28.805942</td>\n",
       "      <td>0.432011</td>\n",
       "      <td>4.739856</td>\n",
       "      <td>92.134034</td>\n",
       "      <td>18.2</td>\n",
       "      <td>0.90</td>\n",
       "    </tr>\n",
       "    <tr>\n",
       "      <th>1087</th>\n",
       "      <td>Mexico</td>\n",
       "      <td>2015</td>\n",
       "      <td>North America</td>\n",
       "      <td>False</td>\n",
       "      <td>74.904000</td>\n",
       "      <td>121858251</td>\n",
       "      <td>3.870317</td>\n",
       "      <td>5.722774</td>\n",
       "      <td>2157.323788</td>\n",
       "      <td>34.121716</td>\n",
       "      <td>18301.500470</td>\n",
       "      <td>57.431043</td>\n",
       "      <td>0.466676</td>\n",
       "      <td>2.255109</td>\n",
       "      <td>98.025444</td>\n",
       "      <td>27.8</td>\n",
       "      <td>3.59</td>\n",
       "    </tr>\n",
       "    <tr>\n",
       "      <th>879</th>\n",
       "      <td>Jamaica</td>\n",
       "      <td>2015</td>\n",
       "      <td>North America</td>\n",
       "      <td>False</td>\n",
       "      <td>74.098000</td>\n",
       "      <td>2891024</td>\n",
       "      <td>2.452418</td>\n",
       "      <td>5.624694</td>\n",
       "      <td>1050.732539</td>\n",
       "      <td>53.320406</td>\n",
       "      <td>8792.056957</td>\n",
       "      <td>42.221221</td>\n",
       "      <td>0.872496</td>\n",
       "      <td>0.803621</td>\n",
       "      <td>90.416796</td>\n",
       "      <td>23.7</td>\n",
       "      <td>1.13</td>\n",
       "    </tr>\n",
       "  </tbody>\n",
       "</table>\n",
       "</div>"
      ],
      "text/plain": [
       "                  Country  Year      Continent  Least Developed  \\\n",
       "1839        United States  2015  North America            False   \n",
       "319                Canada  2015  North America            False   \n",
       "1263            Nicaragua  2015  North America            False   \n",
       "543           El Salvador  2015  North America            False   \n",
       "415            Costa Rica  2015  North America            False   \n",
       "735              Honduras  2015  North America            False   \n",
       "1375               Panama  2015  North America            False   \n",
       "1759  Trinidad and Tobago  2015  North America            False   \n",
       "719             Guatemala  2015  North America            False   \n",
       "1087               Mexico  2015  North America            False   \n",
       "879               Jamaica  2015  North America            False   \n",
       "\n",
       "      Life Expectancy  Population  CO2 emissions  Health expenditure  \\\n",
       "1839        78.690244   320738994      15.560035           16.524073   \n",
       "319         81.900000    35702908      15.648586           10.733205   \n",
       "1263        73.649000     6223234       0.846827            7.963032   \n",
       "543         72.412000     6325121       1.106698            7.630341   \n",
       "415         79.565000     4847805       1.555343            7.591962   \n",
       "735         74.495000     9112904       1.089664            7.483790   \n",
       "1375        77.776000     3968490       2.696240            6.809029   \n",
       "1759        72.941000     1370332      15.565571            6.078629   \n",
       "719         73.250000    15567419       1.049628            6.006021   \n",
       "1087        74.904000   121858251       3.870317            5.722774   \n",
       "879         74.098000     2891024       2.452418            5.624694   \n",
       "\n",
       "      Electric power consumption  Forest area  GDP per capita  \\\n",
       "1839                12993.965580    33.899723    56762.729450   \n",
       "319                 15588.487150    38.716438    44670.080540   \n",
       "1263                  568.313718    32.470750     5293.870462   \n",
       "543                   937.074472    29.265444     7597.689174   \n",
       "415                  1942.490600    57.834508    17090.796580   \n",
       "735                   619.837087    57.769506     4823.395396   \n",
       "1375                 2064.177914    57.621560    25319.216700   \n",
       "1759                 7092.958644    44.890838    27651.728170   \n",
       "719                   601.189731    33.462113     8194.440681   \n",
       "1087                 2157.323788    34.121716    18301.500470   \n",
       "879                  1050.732539    53.320406     8792.056957   \n",
       "\n",
       "      Individuals using the Internet  Military expenditure  \\\n",
       "1839                       74.554202              3.477845   \n",
       "319                        90.000000              1.152709   \n",
       "1263                       19.704292              0.775537   \n",
       "543                        26.802605              1.056820   \n",
       "415                        59.762950              0.000000   \n",
       "735                        27.100000              1.671276   \n",
       "1375                       51.205425              0.000000   \n",
       "1759                       65.100000              0.833206   \n",
       "719                        28.805942              0.432011   \n",
       "1087                       57.431043              0.466676   \n",
       "879                        42.221221              0.872496   \n",
       "\n",
       "      People practicing open defecation  \\\n",
       "1839                           0.000000   \n",
       "319                            0.000000   \n",
       "1263                           7.445650   \n",
       "543                            2.202425   \n",
       "415                            0.265891   \n",
       "735                            7.515632   \n",
       "1375                           5.033525   \n",
       "1759                           0.038231   \n",
       "719                            4.739856   \n",
       "1087                           2.255109   \n",
       "879                            0.803621   \n",
       "\n",
       "      People using at least basic drinking water services  \\\n",
       "1839                                          99.447158     \n",
       "319                                           99.229221     \n",
       "1263                                          81.353129     \n",
       "543                                           95.562138     \n",
       "415                                           99.378687     \n",
       "735                                           93.254411     \n",
       "1375                                          92.904366     \n",
       "1759                                          98.136178     \n",
       "719                                           92.134034     \n",
       "1087                                          98.025444     \n",
       "879                                           90.416796     \n",
       "\n",
       "      Obesity among adults  Beer consumption per capita  \n",
       "1839                  36.7                         4.13  \n",
       "319                   30.7                         3.70  \n",
       "1263                  21.2                         1.44  \n",
       "543                   22.1                         1.16  \n",
       "415                   24.8                         2.26  \n",
       "735                   18.7                         1.22  \n",
       "1375                  21.9                         5.36  \n",
       "1759                  18.9                         2.83  \n",
       "719                   18.2                         0.90  \n",
       "1087                  27.8                         3.59  \n",
       "879                   23.7                         1.13  "
      ]
     },
     "execution_count": 130,
     "metadata": {},
     "output_type": "execute_result"
    }
   ],
   "source": [
    "df_2015[df_2015.loc[:,'Continent']=='North America'].sort_values(by='Health expenditure', ascending=False)"
   ]
  },
  {
   "cell_type": "code",
   "execution_count": null,
   "metadata": {},
   "outputs": [],
   "source": []
  }
 ],
 "metadata": {
  "kernelspec": {
   "display_name": "Python 3.8.6 64-bit",
   "language": "python",
   "name": "python3"
  },
  "language_info": {
   "codemirror_mode": {
    "name": "ipython",
    "version": 3
   },
   "file_extension": ".py",
   "mimetype": "text/x-python",
   "name": "python",
   "nbconvert_exporter": "python",
   "pygments_lexer": "ipython3",
   "version": "3.8.6"
  },
  "orig_nbformat": 4,
  "vscode": {
   "interpreter": {
    "hash": "ce49d75d664714c9cdbfe0585b0b7902633ae41f45bc5554d08d9dd78a3267a6"
   }
  }
 },
 "nbformat": 4,
 "nbformat_minor": 2
}
